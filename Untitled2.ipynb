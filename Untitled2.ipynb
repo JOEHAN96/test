{
 "cells": [
  {
   "cell_type": "markdown",
   "id": "488911e2-1cc3-419f-83d5-2798faa09533",
   "metadata": {},
   "source": [
    "1+1# "
   ]
  },
  {
   "cell_type": "code",
   "execution_count": 1,
   "id": "338e6b32-5ec9-43e0-91b4-752f018c10b7",
   "metadata": {},
   "outputs": [
    {
     "data": {
      "text/plain": [
       "2"
      ]
     },
     "execution_count": 1,
     "metadata": {},
     "output_type": "execute_result"
    }
   ],
   "source": [
    "1+1"
   ]
  },
  {
   "cell_type": "code",
   "execution_count": 2,
   "id": "3b4142c6-d0b0-43d4-b96d-9b9af09a2be3",
   "metadata": {},
   "outputs": [],
   "source": [
    "import keras"
   ]
  },
  {
   "cell_type": "code",
   "execution_count": null,
   "id": "fcf38216-6838-4292-91f5-de29f84112b0",
   "metadata": {},
   "outputs": [],
   "source": []
  }
 ],
 "metadata": {
  "kernelspec": {
   "display_name": "Python 3 (ipykernel)",
   "language": "python",
   "name": "python3"
  },
  "language_info": {
   "codemirror_mode": {
    "name": "ipython",
    "version": 3
   },
   "file_extension": ".py",
   "mimetype": "text/x-python",
   "name": "python",
   "nbconvert_exporter": "python",
   "pygments_lexer": "ipython3",
   "version": "3.9.15"
  }
 },
 "nbformat": 4,
 "nbformat_minor": 5
}
